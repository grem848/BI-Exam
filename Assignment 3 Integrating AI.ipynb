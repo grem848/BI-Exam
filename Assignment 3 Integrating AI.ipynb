{
 "cells": [
  {
   "cell_type": "markdown",
   "metadata": {},
   "source": [
    "# Assignment 3: Integrating AI\n",
    "\n",
    "## Example of using python ML inside Tableau\n",
    "\n",
    "This whole notebook is just testing and setting up some data, the real magic is in the bottom of this notebook"
   ]
  },
  {
   "cell_type": "code",
   "execution_count": 1,
   "metadata": {},
   "outputs": [],
   "source": [
    "import pandas as pd\n",
    "import numpy as np\n",
    "import seaborn as sns\n",
    "import matplotlib.pyplot as plt\n",
    "from sklearn.feature_extraction.text import CountVectorizer\n",
    "from sklearn import feature_extraction, linear_model, model_selection, preprocessing\n",
    "from sklearn.metrics import accuracy_score\n",
    "from sklearn.model_selection import train_test_split\n",
    "from sklearn.feature_extraction.text import TfidfTransformer\n",
    "from sklearn.pipeline import Pipeline\n",
    "\n",
    "from sklearn.naive_bayes import GaussianNB\n",
    "from sklearn.naive_bayes import BernoulliNB\n",
    "from sklearn.naive_bayes import MultinomialNB\n",
    "from sklearn.tree import DecisionTreeClassifier\n",
    "from sklearn.ensemble import RandomForestClassifier\n",
    "\n",
    "from sklearn.preprocessing import LabelEncoder\n",
    "\n",
    "from sklearn.metrics import accuracy_score, confusion_matrix, classification_report\n"
   ]
  },
  {
   "cell_type": "code",
   "execution_count": 2,
   "metadata": {},
   "outputs": [],
   "source": [
    "# Load both csv's\n",
    "review_df = pd.read_csv(\"metacritic_critic_reviews.csv\")"
   ]
  },
  {
   "cell_type": "code",
   "execution_count": 3,
   "metadata": {},
   "outputs": [
    {
     "data": {
      "text/html": [
       "<div>\n",
       "<style scoped>\n",
       "    .dataframe tbody tr th:only-of-type {\n",
       "        vertical-align: middle;\n",
       "    }\n",
       "\n",
       "    .dataframe tbody tr th {\n",
       "        vertical-align: top;\n",
       "    }\n",
       "\n",
       "    .dataframe thead th {\n",
       "        text-align: right;\n",
       "    }\n",
       "</style>\n",
       "<table border=\"1\" class=\"dataframe\">\n",
       "  <thead>\n",
       "    <tr style=\"text-align: right;\">\n",
       "      <th></th>\n",
       "      <th>name</th>\n",
       "      <th>review</th>\n",
       "      <th>game</th>\n",
       "      <th>platform</th>\n",
       "      <th>score</th>\n",
       "      <th>date</th>\n",
       "    </tr>\n",
       "  </thead>\n",
       "  <tbody>\n",
       "    <tr>\n",
       "      <th>0</th>\n",
       "      <td>LEVEL (Czech Republic)</td>\n",
       "      <td>Portal 2 is a masterpiece, a work of art that ...</td>\n",
       "      <td>Portal 2</td>\n",
       "      <td>PC</td>\n",
       "      <td>100.0</td>\n",
       "      <td>May 25, 2011</td>\n",
       "    </tr>\n",
       "    <tr>\n",
       "      <th>1</th>\n",
       "      <td>GameCritics</td>\n",
       "      <td>So do we need Portal 2? Do I need it? Maybe no...</td>\n",
       "      <td>Portal 2</td>\n",
       "      <td>PC</td>\n",
       "      <td>100.0</td>\n",
       "      <td>May  8, 2011</td>\n",
       "    </tr>\n",
       "    <tr>\n",
       "      <th>2</th>\n",
       "      <td>PC Games (Russia)</td>\n",
       "      <td>Portal 2 exceeds every expectation. It has a s...</td>\n",
       "      <td>Portal 2</td>\n",
       "      <td>PC</td>\n",
       "      <td>100.0</td>\n",
       "      <td>May  6, 2011</td>\n",
       "    </tr>\n",
       "    <tr>\n",
       "      <th>3</th>\n",
       "      <td>Adventure Gamers</td>\n",
       "      <td>Like its predecessor, Portal 2 is not an adven...</td>\n",
       "      <td>Portal 2</td>\n",
       "      <td>PC</td>\n",
       "      <td>100.0</td>\n",
       "      <td>Apr 29, 2011</td>\n",
       "    </tr>\n",
       "    <tr>\n",
       "      <th>4</th>\n",
       "      <td>Armchair Empire</td>\n",
       "      <td>Pile on the \"Oh, yes!\" moments of solving some...</td>\n",
       "      <td>Portal 2</td>\n",
       "      <td>PC</td>\n",
       "      <td>100.0</td>\n",
       "      <td>Apr 28, 2011</td>\n",
       "    </tr>\n",
       "    <tr>\n",
       "      <th>...</th>\n",
       "      <td>...</td>\n",
       "      <td>...</td>\n",
       "      <td>...</td>\n",
       "      <td>...</td>\n",
       "      <td>...</td>\n",
       "      <td>...</td>\n",
       "    </tr>\n",
       "    <tr>\n",
       "      <th>125871</th>\n",
       "      <td>PC PowerPlay</td>\n",
       "      <td>Well, pardner, I'd suggest you ride far, far a...</td>\n",
       "      <td>Wild West Online</td>\n",
       "      <td>PC</td>\n",
       "      <td>30.0</td>\n",
       "      <td>May 22, 2018</td>\n",
       "    </tr>\n",
       "    <tr>\n",
       "      <th>125872</th>\n",
       "      <td>GameGrin</td>\n",
       "      <td>The contentless husk of an MMO with uninterest...</td>\n",
       "      <td>Wild West Online</td>\n",
       "      <td>PC</td>\n",
       "      <td>30.0</td>\n",
       "      <td>May 17, 2018</td>\n",
       "    </tr>\n",
       "    <tr>\n",
       "      <th>125873</th>\n",
       "      <td>GameSpace</td>\n",
       "      <td>Overall Wild West Online in its current state ...</td>\n",
       "      <td>Wild West Online</td>\n",
       "      <td>PC</td>\n",
       "      <td>20.0</td>\n",
       "      <td>Jun 11, 2018</td>\n",
       "    </tr>\n",
       "    <tr>\n",
       "      <th>125874</th>\n",
       "      <td>Multiplayer.it</td>\n",
       "      <td>Wild West Online is a complete mess. Don't buy...</td>\n",
       "      <td>Wild West Online</td>\n",
       "      <td>PC</td>\n",
       "      <td>20.0</td>\n",
       "      <td>Jun  1, 2018</td>\n",
       "    </tr>\n",
       "    <tr>\n",
       "      <th>125875</th>\n",
       "      <td>SpazioGames</td>\n",
       "      <td>Wild West Online isn't a real game.</td>\n",
       "      <td>Wild West Online</td>\n",
       "      <td>PC</td>\n",
       "      <td>20.0</td>\n",
       "      <td>May 17, 2018</td>\n",
       "    </tr>\n",
       "  </tbody>\n",
       "</table>\n",
       "<p>125876 rows × 6 columns</p>\n",
       "</div>"
      ],
      "text/plain": [
       "                          name  \\\n",
       "0       LEVEL (Czech Republic)   \n",
       "1                  GameCritics   \n",
       "2            PC Games (Russia)   \n",
       "3             Adventure Gamers   \n",
       "4              Armchair Empire   \n",
       "...                        ...   \n",
       "125871            PC PowerPlay   \n",
       "125872                GameGrin   \n",
       "125873               GameSpace   \n",
       "125874          Multiplayer.it   \n",
       "125875             SpazioGames   \n",
       "\n",
       "                                                   review              game  \\\n",
       "0       Portal 2 is a masterpiece, a work of art that ...          Portal 2   \n",
       "1       So do we need Portal 2? Do I need it? Maybe no...          Portal 2   \n",
       "2       Portal 2 exceeds every expectation. It has a s...          Portal 2   \n",
       "3       Like its predecessor, Portal 2 is not an adven...          Portal 2   \n",
       "4       Pile on the \"Oh, yes!\" moments of solving some...          Portal 2   \n",
       "...                                                   ...               ...   \n",
       "125871  Well, pardner, I'd suggest you ride far, far a...  Wild West Online   \n",
       "125872  The contentless husk of an MMO with uninterest...  Wild West Online   \n",
       "125873  Overall Wild West Online in its current state ...  Wild West Online   \n",
       "125874  Wild West Online is a complete mess. Don't buy...  Wild West Online   \n",
       "125875                Wild West Online isn't a real game.  Wild West Online   \n",
       "\n",
       "       platform  score          date  \n",
       "0            PC  100.0  May 25, 2011  \n",
       "1            PC  100.0  May  8, 2011  \n",
       "2            PC  100.0  May  6, 2011  \n",
       "3            PC  100.0  Apr 29, 2011  \n",
       "4            PC  100.0  Apr 28, 2011  \n",
       "...         ...    ...           ...  \n",
       "125871       PC   30.0  May 22, 2018  \n",
       "125872       PC   30.0  May 17, 2018  \n",
       "125873       PC   20.0  Jun 11, 2018  \n",
       "125874       PC   20.0  Jun  1, 2018  \n",
       "125875       PC   20.0  May 17, 2018  \n",
       "\n",
       "[125876 rows x 6 columns]"
      ]
     },
     "execution_count": 3,
     "metadata": {},
     "output_type": "execute_result"
    }
   ],
   "source": [
    "review_df"
   ]
  },
  {
   "cell_type": "code",
   "execution_count": 4,
   "metadata": {},
   "outputs": [
    {
     "data": {
      "text/plain": [
       "['name', 'review', 'game', 'platform', 'score', 'date']"
      ]
     },
     "execution_count": 4,
     "metadata": {},
     "output_type": "execute_result"
    }
   ],
   "source": [
    "# list all features\n",
    "list(review_df)"
   ]
  },
  {
   "cell_type": "code",
   "execution_count": 5,
   "metadata": {},
   "outputs": [
    {
     "name": "stdout",
     "output_type": "stream",
     "text": [
      "Review count for each reviewer:\n",
      "* Multiplayer.it: 2345\n",
      "* Everyeye.it: 2203\n",
      "* IGN: 2150\n",
      "* Vandal: 2132\n",
      "* GameSpot: 2056\n",
      "* Destructoid: 1844\n",
      "* Eurogamer Italy: 1789\n",
      "* 4Players.de: 1772\n",
      "* SpazioGames: 1748\n",
      "* COGconnected: 1666\n",
      "* Hardcore Gamer: 1666\n",
      "* God is a Geek: 1633\n",
      "* 3DJuegos: 1589\n",
      "* CD-Action: 1564\n",
      "* Gameblog.fr: 1491\n",
      "* Game Informer: 1407\n",
      "* DarkStation: 1389\n",
      "* ZTGD: 1379\n",
      "* IGN Italia: 1376\n",
      "* XGN: 1350\n",
      "* Meristation: 1339\n",
      "* Metro GameCentral: 1316\n",
      "* GamingTrend: 1309\n",
      "* Digitally Downloaded: 1276\n",
      "* Push Square: 1274\n",
      "* IGN Spain: 1174\n",
      "* TheSixthAxis: 1173\n",
      "* Gaming Nexus: 1144\n",
      "* Games Master UK: 1141\n",
      "* Games.cz: 1124\n",
      "* Gaming Age: 1090\n",
      "* PlayStation LifeStyle: 1088\n",
      "* Gamer.nl: 1063\n",
      "* GameCritics: 1042\n",
      "* PC Gamer: 1014\n",
      "* PlayStation Universe: 1011\n",
      "* Cubed3: 1009\n",
      "* Worth Playing: 1000\n",
      "* LEVEL (Czech Republic): 999\n",
      "* Nintendo Life: 993\n",
      "* Game Revolution: 990\n",
      "* GameStar: 964\n",
      "* GameOver.gr: 963\n",
      "* Digital Chumps: 960\n",
      "* games(TM): 959\n",
      "* CGMagazine: 958\n",
      "* NintendoWorldReport: 924\n",
      "* Impulsegamer: 923\n",
      "* We Got This Covered: 882\n",
      "* Playstation Official Magazine UK: 880\n",
      "* GameSpew: 835\n",
      "* NZGamer: 827\n",
      "* Hobby Consolas: 785\n",
      "* JeuxActu: 764\n",
      "* Edge Magazine: 762\n",
      "* Riot Pixels: 735\n",
      "* Eurogamer: 734\n",
      "* GamesRadar+: 732\n",
      "* PSX-Sense.nl: 717\n",
      "* Critical Hit: 712\n",
      "* The Digital Fix: 709\n",
      "* Polygon: 701\n",
      "* GameWatcher: 697\n",
      "* Pelit (Finland): 687\n",
      "* Twinfinite: 676\n",
      "* The Games Machine: 671\n",
      "* Gamer.no: 657\n",
      "* USgamer: 646\n",
      "* InsideGamer.nl: 640\n",
      "* Atomix: 637\n",
      "* GRYOnline.pl: 636\n",
      "* Cheat Code Central: 625\n",
      "* PC PowerPlay: 621\n",
      "* Attack of the Fanboy: 621\n",
      "* Wccftech: 620\n",
      "* Hooked Gamers: 617\n",
      "* DarkZero: 611\n",
      "* EGM: 598\n",
      "* Brash Games: 575\n",
      "* GameGrin: 561\n",
      "* Ragequit.gr: 558\n",
      "* VideoGamer: 550\n",
      "* FNintendo: 546\n",
      "* RPG Fan: 545\n",
      "* LevelUp: 535\n",
      "* MondoXbox: 517\n",
      "* Pocket Gamer UK: 513\n",
      "* Gameplanet: 513\n",
      "* LaPS4: 512\n",
      "* Areajugones: 494\n",
      "* PC Games: 488\n",
      "* Official Xbox Magazine UK: 488\n",
      "* Game World Navigator Magazine: 485\n",
      "* Shacknews: 477\n",
      "* Playstation Official Magazine Australia: 473\n",
      "* GameCrate: 456\n",
      "* GamesBeat: 454\n",
      "* Slant Magazine: 448\n",
      "* Digital Spy: 444\n",
      "* Video Chums: 443\n",
      "* Game Over Online: 441\n",
      "* Post Arcade (National Post): 436\n",
      "* DualShockers: 434\n",
      "* Jeuxvideo.com: 424\n",
      "* Eurogamer Germany: 422\n",
      "* PLAY! Zine: 414\n",
      "* Merlin'in Kazanı (Turkey): 412\n",
      "* Trusted Reviews: 411\n",
      "* The Escapist: 406\n",
      "* Eurogamer Portugal: 386\n",
      "* GameTrailers: 386\n",
      "* Gamers' Temple: 382\n",
      "* Switch Player: 378\n",
      "* Softpedia: 368\n",
      "* AusGamers: 358\n",
      "* Game Rant: 353\n",
      "* PlayStation Country: 344\n",
      "* Level7.nu: 341\n",
      "* GameSpace: 327\n",
      "* TrueAchievements: 321\n",
      "* Nintendojo: 315\n",
      "* NF Magazine: 315\n",
      "* RPGamer: 312\n",
      "* Eurogamer Poland: 305\n",
      "* Xbox Achievements: 299\n",
      "* TheXboxHub: 298\n",
      "* Official Nintendo Magazine UK: 297\n",
      "* Telegraph: 296\n",
      "* GamingXP: 295\n",
      "* Joystiq: 291\n",
      "* Giant Bomb: 287\n",
      "* Guardian: 282\n",
      "* IncGamers: 280\n",
      "* GamePro Germany: 280\n",
      "* The Jimquisition: 278\n",
      "* New Game Network: 275\n",
      "* Gamestyle: 273\n",
      "* Kill Screen: 268\n",
      "* Arcade Sushi: 268\n",
      "* ICXM: 262\n",
      "* Gamereactor Sweden: 259\n",
      "* Stevivor: 252\n",
      "* Adventure Gamers: 250\n",
      "* Nintendo Enthusiast: 249\n",
      "* Generación Xbox: 249\n",
      "* Vooks: 249\n",
      "* Windows Central: 240\n",
      "* Eurogamer Spain: 237\n",
      "* Power Unlimited: 235\n",
      "* Nintenderos: 234\n",
      "* XboxAddict: 228\n",
      "* ActionTrip: 223\n",
      "* Absolute Games: 222\n",
      "* PCGamesN: 221\n",
      "* The Overpowered Noobs: 221\n",
      "* App Trigger: 219\n",
      "* Thunderbolt: 218\n",
      "* Play UK: 217\n",
      "* PSX Extreme: 217\n",
      "* Hyper Magazine: 213\n",
      "* Eurogamer Sweden: 211\n",
      "* RPG Site: 206\n",
      "* Switch Brasil: 201\n",
      "* Ars Technica: 192\n",
      "* SomosXbox: 191\n",
      "* Rock, Paper, Shotgun: 188\n",
      "* Gamereactor Denmark: 188\n",
      "* M3: 186\n",
      "* Pure Xbox: 186\n",
      "* BaziCenter: 179\n",
      "* Quarter to Three: 178\n",
      "* PSNStores: 174\n",
      "* Machinima: 173\n",
      "* GameSpy: 173\n",
      "* Easy Allies: 170\n",
      "* GamesVillage.it: 169\n",
      "* PlayGround.ru: 168\n",
      "* Nintendo Insider: 168\n",
      "* PC Gamer UK: 167\n",
      "* PC Master (Greece): 167\n",
      "* PC Invasion: 166\n",
      "* High-Def Digest: 165\n",
      "* Kotaku: 160\n",
      "* Forbes: 159\n",
      "* MMORPG.com: 158\n",
      "* GameFront: 157\n",
      "* Washington Post: 156\n",
      "* X-ONE Magazine UK: 156\n",
      "* The A.V. Club: 155\n",
      "* Xbox Tavern: 154\n",
      "* XBLA Fans: 142\n",
      "* Game Debate: 135\n",
      "* Digital Trends: 127\n",
      "* NowGamer: 124\n",
      "* New York Daily News: 122\n",
      "* PCWorld: 121\n",
      "* Armchair Empire: 119\n",
      "* Vgames: 115\n",
      "* Gamekult: 114\n",
      "* CalmDownTom: 113\n",
      "* IGN Sweden: 110\n",
      "* Gamersky: 110\n",
      "* TrueGaming: 109\n",
      "* The Daily Dot: 108\n",
      "* IGN Denmark: 106\n",
      "* Nintendo Gamer: 106\n",
      "* AtomicGamer: 104\n",
      "* Dealspwn: 101\n",
      "* PC Games (Russia): 99\n",
      "* GamePro: 97\n",
      "* Toronto Sun: 97\n",
      "* Nintendo Power: 97\n",
      "* The Sydney Morning Herald: 94\n",
      "* The Vita Lounge: 94\n",
      "* Modojo: 93\n",
      "* IBTimes UK: 93\n",
      "* Game Chronicles: 90\n",
      "* FANDOM: 88\n",
      "* Press Start Australia: 83\n",
      "* Gamers\\' Temple: 83\n",
      "* The Verge: 81\n",
      "* GameShark: 76\n",
      "* IGN Japan: 75\n",
      "* Gamers.at: 69\n",
      "* Yahoo!: 68\n",
      "* Ten Ton Hammer: 68\n",
      "* Wired: 67\n",
      "* Examiner: 66\n",
      "* UploadVR: 64\n",
      "* Computer Games Online RO: 64\n",
      "* Waypoint: 63\n",
      "* D+PAD Magazine: 62\n",
      "* GameFocus: 62\n",
      "* Official PlayStation Magazine Benelux: 59\n",
      "* PALGN: 59\n",
      "* Time: 58\n",
      "* Bit-Gamer: 55\n",
      "* MEGamers: 54\n",
      "* Gamer Limit: 53\n",
      "* Playstation: The Official Magazine (US): 50\n",
      "* BigPond GameArena: 50\n",
      "* VG247: 50\n",
      "* Sporting News: 45\n",
      "* Gamers Heroes: 45\n",
      "* CPUGamer: 44\n",
      "* VRFocus: 42\n",
      "* Let's Play Video Games: 41\n",
      "* Da Gameboyz: 41\n",
      "* G4 TV: 37\n",
      "* PSM3 Magazine UK: 36\n",
      "* Glixel: 35\n",
      "* Official Xbox Magazine: 33\n",
      "* 1UP: 33\n",
      "* PC Format: 33\n",
      "* Road to VR: 30\n",
      "* PSFocus: 29\n",
      "* Screen Rant: 29\n",
      "* Strategy Gamer: 29\n",
      "* GamingExcellence: 29\n",
      "* TotalPlayStation: 28\n",
      "* Mashable: 27\n",
      "* The Globe and Mail (Toronto): 25\n",
      "* N-Europe: 25\n",
      "* Variety: 25\n",
      "* CNET: 25\n",
      "* My Nintendo News: 24\n",
      "* Wired UK: 22\n",
      "* FiringSquad: 22\n",
      "* GamerNode: 19\n",
      "* Tired Old Hack: 16\n",
      "* UGO: 14\n",
      "* Gaming Target: 13\n",
      "* Metro Montreal: 13\n",
      "* Cynamite: 11\n",
      "* The Indie Game Website: 11\n",
      "* Computer and Video Games: 10\n",
      "* Video Game Talk: 10\n",
      "* Videogameszone.de: 10\n",
      "* YouGamers: 10\n",
      "* GameZone: 9\n",
      "* DailyGame: 8\n",
      "* Extreme Gamer: 7\n",
      "* Pocket Gamer France: 6\n",
      "* Grab It Magazine: 5\n",
      "* Play.tm: 5\n",
      "* My Gamer: 4\n",
      "* British GQ: 4\n",
      "* Gamer's Hell: 4\n",
      "* Total Video Games: 2\n",
      "* RealGamer: 2\n",
      "* IGN UK: 2\n",
      "* IGN AU: 2\n",
      "* Cultured Vultures: 1\n",
      "* TouchArcade: 1\n",
      "* AceGamez: 1\n",
      "* Kikizo: 1\n",
      "* Just Adventure: 1\n",
      "Total reviews Amount: 125876\n"
     ]
    }
   ],
   "source": [
    "# Display Review count for each reviewer\n",
    "print(\"Review count for each reviewer:\")\n",
    "for key, count in review_df.name.value_counts().iteritems():\n",
    "    print(f\"* {key}: {count}\")\n",
    "    \n",
    "# Display total reviews amount\n",
    "print(f\"Total reviews Amount: {review_df.shape[0]}\")"
   ]
  },
  {
   "cell_type": "code",
   "execution_count": 6,
   "metadata": {},
   "outputs": [
    {
     "name": "stderr",
     "output_type": "stream",
     "text": [
      "c:\\users\\andreas heick laptop\\appdata\\local\\programs\\python\\python37\\lib\\site-packages\\seaborn\\_decorators.py:43: FutureWarning: Pass the following variable as a keyword arg: x. From version 0.12, the only valid positional argument will be `data`, and passing other arguments without an explicit keyword will result in an error or misinterpretation.\n",
      "  FutureWarning\n"
     ]
    },
    {
     "data": {
      "image/png": "[encoded data removed]",
      "text/plain": [
       "<Figure size 1080x360 with 1 Axes>"
      ]
     },
     "metadata": {
      "needs_background": "light"
     },
     "output_type": "display_data"
    }
   ],
   "source": [
    "# plot platform for each review\n",
    "plt.figure(figsize=(15,5))\n",
    "sns.countplot(\"platform\", data=review_df)\n",
    "plt.show()"
   ]
  },
  {
   "cell_type": "code",
   "execution_count": 7,
   "metadata": {},
   "outputs": [],
   "source": [
    "review_df = pd.read_csv(\"metacritic_critic_reviews.csv\").tail(10000)\n",
    "review_df=review_df[~review_df.isin([np.nan, np.inf, -np.inf]).any(1)]"
   ]
  },
  {
   "cell_type": "code",
   "execution_count": 17,
   "metadata": {},
   "outputs": [],
   "source": [
    "Y = review_df.score\n",
    "X = review_df.review\n",
    "test_size = 0.20\n",
    "random_state = 200\n",
    "\n",
    "# Creating and training data\n",
    "x_train,x_test,y_train,y_test = train_test_split(X, Y, test_size=test_size, random_state=random_state)"
   ]
  },
  {
   "cell_type": "code",
   "execution_count": 32,
   "metadata": {},
   "outputs": [
    {
     "name": "stdout",
     "output_type": "stream",
     "text": [
      "accuracy: 16.09%\n"
     ]
    }
   ],
   "source": [
    "pipe = Pipeline([('vect', CountVectorizer()),\n",
    "                 ('tfidf', TfidfTransformer()),\n",
    "                 ('model', DecisionTreeClassifier())])\n",
    "\n",
    "model = pipe.fit(x_train, y_train)\n",
    "prediction = model.predict(x_test)\n",
    "print(\"accuracy: {}%\".format(round(accuracy_score(y_test, prediction)*100,2)))"
   ]
  },
  {
   "cell_type": "code",
   "execution_count": 29,
   "metadata": {},
   "outputs": [
    {
     "name": "stdout",
     "output_type": "stream",
     "text": [
      "accuracy: 22.25%\n"
     ]
    }
   ],
   "source": [
    "pipe = Pipeline([('vect', CountVectorizer()),\n",
    "                 ('tfidf', TfidfTransformer()),\n",
    "                 ('model', BernoulliNB())])\n",
    "\n",
    "model = pipe.fit(x_train, y_train)\n",
    "prediction = model.predict(x_test)\n",
    "print(\"accuracy: {}%\".format(round(accuracy_score(y_test, prediction)*100,2)))"
   ]
  },
  {
   "cell_type": "code",
   "execution_count": 30,
   "metadata": {},
   "outputs": [
    {
     "name": "stdout",
     "output_type": "stream",
     "text": [
      "accuracy: 19.55%\n"
     ]
    }
   ],
   "source": [
    "pipe = Pipeline([('vect', CountVectorizer()),\n",
    "                 ('tfidf', TfidfTransformer()),\n",
    "                 ('model', MultinomialNB())])\n",
    "\n",
    "model = pipe.fit(x_train, y_train)\n",
    "prediction = model.predict(x_test)\n",
    "print(\"accuracy: {}%\".format(round(accuracy_score(y_test, prediction)*100,2)))"
   ]
  },
  {
   "cell_type": "code",
   "execution_count": 31,
   "metadata": {
    "scrolled": false
   },
   "outputs": [
    {
     "name": "stdout",
     "output_type": "stream",
     "text": [
      "accuracy: 22.35%\n"
     ]
    }
   ],
   "source": [
    "pipe = Pipeline([('vect', CountVectorizer()),\n",
    "                 ('tfidf', TfidfTransformer()),\n",
    "                 ('model', RandomForestClassifier())])\n",
    "\n",
    "model = pipe.fit(x_train, y_train)\n",
    "prediction = model.predict(x_test)\n",
    "print(\"accuracy: {}%\".format(round(accuracy_score(y_test, prediction)*100,2)))"
   ]
  },
  {
   "cell_type": "code",
   "execution_count": 23,
   "metadata": {},
   "outputs": [],
   "source": [
    "mohreview = \"Instead of being fun it was boring lacking cool features\""
   ]
  },
  {
   "cell_type": "code",
   "execution_count": 24,
   "metadata": {
    "scrolled": true
   },
   "outputs": [
    {
     "name": "stdout",
     "output_type": "stream",
     "text": [
      "Predict score for review:['0-100'] => [40.]\n"
     ]
    }
   ],
   "source": [
    "print(\"Predict score for review:['0-100'] =>\", model.predict([review_df.iloc[8000].review]))"
   ]
  },
  {
   "cell_type": "code",
   "execution_count": 25,
   "metadata": {},
   "outputs": [
    {
     "name": "stdout",
     "output_type": "stream",
     "text": [
      "Predict score for review:['0-100'] => [70.]\n"
     ]
    }
   ],
   "source": [
    "print(\"Predict score for review:['0-100'] =>\", model.predict([mohreview]))"
   ]
  },
  {
   "cell_type": "code",
   "execution_count": 26,
   "metadata": {},
   "outputs": [
    {
     "data": {
      "text/plain": [
       "name                                           Digital Chumps\n",
       "review      Island Time VR is a survival game deprived of ...\n",
       "game                                           Island Time VR\n",
       "platform                                        PlayStation 4\n",
       "score                                                      40\n",
       "date                                             Apr  3, 2018\n",
       "Name: 124043, dtype: object"
      ]
     },
     "execution_count": 26,
     "metadata": {},
     "output_type": "execute_result"
    }
   ],
   "source": [
    "review_df.iloc[8000]"
   ]
  },
  {
   "cell_type": "code",
   "execution_count": 27,
   "metadata": {
    "scrolled": true
   },
   "outputs": [
    {
     "data": {
      "text/plain": [
       "\"Island Time VR is a survival game deprived of effective resources. Elements that should be in great supply—variability, actionable materials, and available real estate—are reduced to a minimum, instead depending on the novelty of virtual reality for sustenance. With PlayStation VR's incapacity for a proper room-scale experience, Island Time VR is left out to starve.\""
      ]
     },
     "execution_count": 27,
     "metadata": {},
     "output_type": "execute_result"
    }
   ],
   "source": [
    "review_df.iloc[8000].review"
   ]
  },
  {
   "cell_type": "markdown",
   "metadata": {},
   "source": [
    "# Here comes the magic\n",
    "\n",
    "This script can be run in Tableau, look at our Book-Exam.twb, it has everything needed to make things work.\n",
    "\n",
    "\n",
    "* Goto the worksheet Python ML and Python Plot to see the magic\n",
    "* remember to change the path to the CSV file\n",
    "* If you want to change the input, look in the bottom left under parameters, and edit the parameter Input. We have already set up some example reviews to use, use others by changing the Current Value while editing.\n",
    "\n",
    "## Since we have taken 10.000 items from our dataset, Tableau and Tabpy will stall for about 10 seconds minimum when changing Input!\n"
   ]
  },
  {
   "cell_type": "code",
   "execution_count": 199,
   "metadata": {},
   "outputs": [],
   "source": [
    "# script used in tableau, takes the parameter Input and uses it in the script\n",
    "\n",
    "# SCRIPT_REAL(\"\n",
    "# import pandas as pd\n",
    "# import numpy as np\n",
    "# import seaborn as sns\n",
    "# import matplotlib.pyplot as plt\n",
    "# from sklearn.feature_extraction.text import CountVectorizer\n",
    "# from sklearn import feature_extraction, linear_model, model_selection, preprocessing\n",
    "# from sklearn.metrics import accuracy_score\n",
    "# from sklearn.model_selection import train_test_split\n",
    "# from sklearn.feature_extraction.text import TfidfTransformer\n",
    "# from sklearn.pipeline import Pipeline\n",
    "\n",
    "# from sklearn.naive_bayes import GaussianNB\n",
    "# from sklearn.naive_bayes import BernoulliNB\n",
    "# from sklearn.naive_bayes import MultinomialNB\n",
    "# from sklearn.tree import DecisionTreeClassifier\n",
    "# from sklearn.ensemble import RandomForestClassifier\n",
    "\n",
    "# from sklearn.preprocessing import LabelEncoder\n",
    "\n",
    "# from sklearn.metrics import accuracy_score, confusion_matrix, classification_report\n",
    "\n",
    "# review_df = pd.read_csv('C:/Users/Andreas Heick Laptop/Documents/VisualStudio Projects/SOFT - 2 Semester/BI/BI-Exam/metacritic_critic_reviews.csv').tail(1000)\n",
    "# review_df=review_df[~review_df.isin([np.nan, np.inf, -np.inf]).any(1)]\n",
    "\n",
    "# Y = review_df.score\n",
    "# X = review_df.review\n",
    "# test_size = 0.20\n",
    "# random_state = 200\n",
    "\n",
    "# # Creating and training data\n",
    "# x_train,x_test,y_train,y_test = train_test_split(X, Y, test_size=test_size, random_state=random_state)\n",
    "\n",
    "# pipe = Pipeline([('vect', CountVectorizer()),\n",
    "#                  ('tfidf', TfidfTransformer()),\n",
    "#                  ('model', DecisionTreeClassifier())])\n",
    "\n",
    "# model = pipe.fit(x_train, y_train)\n",
    "\n",
    "# prediction = model.predict(_arg1)\n",
    "\n",
    "# return prediction.tolist()\n",
    "# \", STR([Input]))"
   ]
  },
  {
   "cell_type": "code",
   "execution_count": 205,
   "metadata": {},
   "outputs": [],
   "source": [
    "# SCRIPT_REAL(\"\n",
    "# import pandas as pd\n",
    "# import numpy as np\n",
    "# import seaborn as sns\n",
    "# import matplotlib.pyplot as plt\n",
    "\n",
    "# review_df = pd.read_csv('C:/Users/Andreas Heick Laptop/Documents/VisualStudio Projects/SOFT - 2 Semester/BI/BI-Exam/metacritic_critic_reviews.csv').tail(1000)\n",
    "# review_df=review_df[~review_df.isin([np.nan, np.inf, -np.inf]).any(1)]\n",
    "\n",
    "# # plot platform for each review\n",
    "# plt.figure(figsize=(15,5))\n",
    "# sns.countplot('platform', data=review_df)\n",
    "# return plt.show()\n",
    "# \", STR([Input]))"
   ]
  }
 ],
 "metadata": {
  "kernelspec": {
   "display_name": "Python 3",
   "language": "python",
   "name": "python3"
  },
  "language_info": {
   "codemirror_mode": {
    "name": "ipython",
    "version": 3
   },
   "file_extension": ".py",
   "mimetype": "text/x-python",
   "name": "python",
   "nbconvert_exporter": "python",
   "pygments_lexer": "ipython3",
   "version": "3.7.9"
  }
 },
 "nbformat": 4,
 "nbformat_minor": 4
}
